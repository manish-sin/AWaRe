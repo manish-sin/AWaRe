{
 "cells": [
  {
   "cell_type": "code",
   "execution_count": 5,
   "metadata": {},
   "outputs": [],
   "source": [
    "import os, pandas as pd"
   ]
  },
  {
   "cell_type": "markdown",
   "metadata": {},
   "source": [
    "# Objective of this Files\n",
    "In file we will write code to generate report form the log of AWaRe\n",
    "The Report will have two charts \n",
    "1. CHART1 : A Pie chart shoing major Softwares used such as Google Chrome\n",
    "2. CHART2 :When we click on any section of Pie Chart(Any application), an bar-chart opens contain files names on any application (As we create Chart we will improvise based on Char.js capablity. There will be multiple charts, "
   ]
  },
  {
   "cell_type": "markdown",
   "metadata": {},
   "source": [
    "# Step 1: Filtering\n",
    "Data Filtering\n",
    "1. Convert all \"NaN\" in -window- level to \"Ideal\"  ------------ Done\n",
    "2. Delete First Entry ------------- Done\n",
    "3. (Optional)Substract consequtive entries in -Time Stamp- find duration and make a fresh coulum -duration-"
   ]
  },
  {
   "cell_type": "code",
   "execution_count": 51,
   "metadata": {},
   "outputs": [
    {
     "data": {
      "text/html": [
       "<div>\n",
       "<style scoped>\n",
       "    .dataframe tbody tr th:only-of-type {\n",
       "        vertical-align: middle;\n",
       "    }\n",
       "\n",
       "    .dataframe tbody tr th {\n",
       "        vertical-align: top;\n",
       "    }\n",
       "\n",
       "    .dataframe thead th {\n",
       "        text-align: right;\n",
       "    }\n",
       "</style>\n",
       "<table border=\"1\" class=\"dataframe\">\n",
       "  <thead>\n",
       "    <tr style=\"text-align: right;\">\n",
       "      <th></th>\n",
       "      <th>Unnamed: 0</th>\n",
       "      <th>Time Stamp</th>\n",
       "      <th>Window</th>\n",
       "      <th>Suration</th>\n",
       "    </tr>\n",
       "  </thead>\n",
       "  <tbody>\n",
       "    <tr>\n",
       "      <th>1</th>\n",
       "      <td>1</td>\n",
       "      <td>2020-05-14 15:11:03.071987</td>\n",
       "      <td>Ideal</td>\n",
       "      <td>11</td>\n",
       "    </tr>\n",
       "    <tr>\n",
       "      <th>2</th>\n",
       "      <td>2</td>\n",
       "      <td>2020-05-14 15:11:14.086298</td>\n",
       "      <td>HM3H - Capcity - Excel</td>\n",
       "      <td>17</td>\n",
       "    </tr>\n",
       "    <tr>\n",
       "      <th>3</th>\n",
       "      <td>3</td>\n",
       "      <td>2020-05-14 15:11:31.098990</td>\n",
       "      <td>Meet - Capacity Overview Review session - Goog...</td>\n",
       "      <td>3</td>\n",
       "    </tr>\n",
       "    <tr>\n",
       "      <th>4</th>\n",
       "      <td>4</td>\n",
       "      <td>2020-05-14 15:11:34.105939</td>\n",
       "      <td>Ideal</td>\n",
       "      <td>1</td>\n",
       "    </tr>\n",
       "    <tr>\n",
       "      <th>5</th>\n",
       "      <td>5</td>\n",
       "      <td>2020-05-14 15:11:35.110937</td>\n",
       "      <td>HM3H - Capcity - Excel</td>\n",
       "      <td>3</td>\n",
       "    </tr>\n",
       "  </tbody>\n",
       "</table>\n",
       "</div>"
      ],
      "text/plain": [
       "   Unnamed: 0                  Time Stamp  \\\n",
       "1           1  2020-05-14 15:11:03.071987   \n",
       "2           2  2020-05-14 15:11:14.086298   \n",
       "3           3  2020-05-14 15:11:31.098990   \n",
       "4           4  2020-05-14 15:11:34.105939   \n",
       "5           5  2020-05-14 15:11:35.110937   \n",
       "\n",
       "                                              Window  Suration  \n",
       "1                                              Ideal        11  \n",
       "2                             HM3H - Capcity - Excel        17  \n",
       "3  Meet - Capacity Overview Review session - Goog...         3  \n",
       "4                                              Ideal         1  \n",
       "5                             HM3H - Capcity - Excel         3  "
      ]
     },
     "execution_count": 51,
     "metadata": {},
     "output_type": "execute_result"
    }
   ],
   "source": [
    "log = pd.read_csv(\"C:/Users/manis/PycharmProjects/Jupyter projects/awl.csv\") #call csv\n",
    "log.fillna('Ideal', inplace=True) #Convert all \"NaN\" in -window- level to \"Ideal\"\n",
    "log = log.drop(log.index[0])#Delete First Entry\n",
    "log.head()"
   ]
  },
  {
   "cell_type": "markdown",
   "metadata": {},
   "source": [
    "# Step 2: CHART 1\n",
    "1. Create a datafrme which cab be used to plot chart, in same way way as we do in excel. Alternative suggesion are welcome\n",
    "2. Convert Datasheet into list"
   ]
  },
  {
   "cell_type": "markdown",
   "metadata": {},
   "source": [
    "# Step 3: CHART 2\n",
    "1. Create a datafrme for each section of Pie-chart which cab be used to plot chart, in same way way as we do in excel. Note Every item will be poltted. Alternative suggesion are welcome\n",
    "2. Convert Datasheet into list"
   ]
  },
  {
   "cell_type": "markdown",
   "metadata": {},
   "source": [
    "# Improvement\n",
    "1. Add datewise Filter\n",
    "2. When logs are created for months innovative ways has to be thaught of to report"
   ]
  }
 ],
 "metadata": {
  "kernelspec": {
   "display_name": "Python 3",
   "language": "python",
   "name": "python3"
  },
  "language_info": {
   "codemirror_mode": {
    "name": "ipython",
    "version": 3
   },
   "file_extension": ".py",
   "mimetype": "text/x-python",
   "name": "python",
   "nbconvert_exporter": "python",
   "pygments_lexer": "ipython3",
   "version": "3.7.1"
  }
 },
 "nbformat": 4,
 "nbformat_minor": 4
}
