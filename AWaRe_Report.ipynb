{
 "cells": [
  {
   "cell_type": "markdown",
   "metadata": {},
   "source": [
    "# Objective of this Files\n",
    "In file we will write code to generate report form the log of AWaRe\n",
    "The Report will have two charts \n",
    "1. CHART1 : A Pie chart shoing major Softwares used such as Google Chrome\n",
    "2. CHART2 :When we click on any section of Pie Chart(Any application), an bar-chart opens contain files names on any application (As we create Chart we will improvise based on Char.js capablity. There will be multiple charts, "
   ]
  },
  {
   "cell_type": "markdown",
   "metadata": {},
   "source": [
    "# Step 1: Filtering\n",
    "Data Filtering\n",
    "1. Convert all \"NaN\" in -window- level to \"Ideal\"  ------------ Done\n",
    "2. Delete First Entry ------------- Done\n",
    "3. (Optional)Substract consequtive entries in -Time Stamp- find duration and make a fresh coulum -duration-"
   ]
  },
  {
   "cell_type": "markdown",
   "metadata": {},
   "source": [
    "##### Importing Necessary Library"
   ]
  },
  {
   "cell_type": "code",
   "execution_count": 42,
   "metadata": {},
   "outputs": [],
   "source": [
    "import os, pandas as pd\n",
    "import datetime"
   ]
  },
  {
   "cell_type": "markdown",
   "metadata": {},
   "source": [
    "##### Import the csv generated using the aware utility and converting the time string into date time format "
   ]
  },
  {
   "cell_type": "code",
   "execution_count": 43,
   "metadata": {},
   "outputs": [],
   "source": [
    "df = pd.read_csv(\"awl.csv\", index_col='Unnamed: 0')\n",
    "#Fill all the empty cell with Ideal value\n",
    "df.fillna('Ideal', inplace=True) \n",
    "#date_object = datetime.datetime.strptime(DataString, '%Y-%m-%d %H:%M:%S.%f')\n",
    "df['time'] = df['Time Stamp'].apply(lambda x:datetime.datetime.strptime(x, '%Y-%m-%d %H:%M:%S.%f'))"
   ]
  },
  {
   "cell_type": "code",
   "execution_count": 44,
   "metadata": {},
   "outputs": [
    {
     "data": {
      "text/html": [
       "<div>\n",
       "<style scoped>\n",
       "    .dataframe tbody tr th:only-of-type {\n",
       "        vertical-align: middle;\n",
       "    }\n",
       "\n",
       "    .dataframe tbody tr th {\n",
       "        vertical-align: top;\n",
       "    }\n",
       "\n",
       "    .dataframe thead th {\n",
       "        text-align: right;\n",
       "    }\n",
       "</style>\n",
       "<table border=\"1\" class=\"dataframe\">\n",
       "  <thead>\n",
       "    <tr style=\"text-align: right;\">\n",
       "      <th></th>\n",
       "      <th>Time Stamp</th>\n",
       "      <th>Window</th>\n",
       "      <th>Suration</th>\n",
       "      <th>time</th>\n",
       "    </tr>\n",
       "  </thead>\n",
       "  <tbody>\n",
       "    <tr>\n",
       "      <th>0</th>\n",
       "      <td>2020-05-14 15:11:02.058370</td>\n",
       "      <td>abc</td>\n",
       "      <td>0</td>\n",
       "      <td>2020-05-14 15:11:02.058370</td>\n",
       "    </tr>\n",
       "    <tr>\n",
       "      <th>1</th>\n",
       "      <td>2020-05-14 15:11:03.071987</td>\n",
       "      <td>Ideal</td>\n",
       "      <td>11</td>\n",
       "      <td>2020-05-14 15:11:03.071987</td>\n",
       "    </tr>\n",
       "    <tr>\n",
       "      <th>2</th>\n",
       "      <td>2020-05-14 15:11:14.086298</td>\n",
       "      <td>HM3H - Capcity - Excel</td>\n",
       "      <td>17</td>\n",
       "      <td>2020-05-14 15:11:14.086298</td>\n",
       "    </tr>\n",
       "    <tr>\n",
       "      <th>3</th>\n",
       "      <td>2020-05-14 15:11:31.098990</td>\n",
       "      <td>Meet - Capacity Overview Review session - Goog...</td>\n",
       "      <td>3</td>\n",
       "      <td>2020-05-14 15:11:31.098990</td>\n",
       "    </tr>\n",
       "    <tr>\n",
       "      <th>4</th>\n",
       "      <td>2020-05-14 15:11:34.105939</td>\n",
       "      <td>Ideal</td>\n",
       "      <td>1</td>\n",
       "      <td>2020-05-14 15:11:34.105939</td>\n",
       "    </tr>\n",
       "  </tbody>\n",
       "</table>\n",
       "</div>"
      ],
      "text/plain": [
       "                   Time Stamp  \\\n",
       "0  2020-05-14 15:11:02.058370   \n",
       "1  2020-05-14 15:11:03.071987   \n",
       "2  2020-05-14 15:11:14.086298   \n",
       "3  2020-05-14 15:11:31.098990   \n",
       "4  2020-05-14 15:11:34.105939   \n",
       "\n",
       "                                              Window  Suration  \\\n",
       "0                                                abc         0   \n",
       "1                                              Ideal        11   \n",
       "2                             HM3H - Capcity - Excel        17   \n",
       "3  Meet - Capacity Overview Review session - Goog...         3   \n",
       "4                                              Ideal         1   \n",
       "\n",
       "                        time  \n",
       "0 2020-05-14 15:11:02.058370  \n",
       "1 2020-05-14 15:11:03.071987  \n",
       "2 2020-05-14 15:11:14.086298  \n",
       "3 2020-05-14 15:11:31.098990  \n",
       "4 2020-05-14 15:11:34.105939  "
      ]
     },
     "execution_count": 44,
     "metadata": {},
     "output_type": "execute_result"
    }
   ],
   "source": [
    "df.head(5)"
   ]
  },
  {
   "cell_type": "code",
   "execution_count": 45,
   "metadata": {},
   "outputs": [
    {
     "data": {
      "text/plain": [
       "pandas._libs.tslibs.timestamps.Timestamp"
      ]
     },
     "execution_count": 45,
     "metadata": {},
     "output_type": "execute_result"
    }
   ],
   "source": [
    "type(df['time'][0])"
   ]
  },
  {
   "cell_type": "markdown",
   "metadata": {},
   "source": [
    "##### Creating a function to find the time difference between two application, and storing the value in column"
   ]
  },
  {
   "cell_type": "code",
   "execution_count": 46,
   "metadata": {},
   "outputs": [
    {
     "name": "stderr",
     "output_type": "stream",
     "text": [
      "c:\\users\\z003ww7c.ad001\\appdata\\local\\programs\\python\\python37\\lib\\site-packages\\ipykernel_launcher.py:10: SettingWithCopyWarning: \n",
      "A value is trying to be set on a copy of a slice from a DataFrame\n",
      "\n",
      "See the caveats in the documentation: http://pandas.pydata.org/pandas-docs/stable/indexing.html#indexing-view-versus-copy\n",
      "  # Remove the CWD from sys.path while we load stuff.\n"
     ]
    }
   ],
   "source": [
    "def diff_times_in_seconds(p, q):\n",
    "    # caveat emptor - assumes t1 & t2 are python times, on the same day and t2 is after t1\n",
    "    a, b, c, d = p.time().hour, p.time().minute, p.time().second, p.time().microsecond\n",
    "    aa, bb, cc, dd = q.time().hour, q.time().minute, q.time().second, q.time().microsecond\n",
    "    t1_secs = 0.000001*d + c + 60 * (b + 60*a)\n",
    "    t2_secs = 0.000001*dd + cc + 60 * (bb + 60*aa)\n",
    "    return( t2_secs - t1_secs)\n",
    "df['time_diff']=''\n",
    "# using the above function and store the time difference in a column\n",
    "for i in range(len(df)-1):\n",
    "    df['time_diff'][i] = diff_times_in_seconds(df['time'][i],df['time'][i+1])\n",
    "df=df.rename(columns={'time_diff': 'Duration(Sec)'})\n",
    "df = df[['Window', 'Duration(Sec)', 'time']]"
   ]
  },
  {
   "cell_type": "code",
   "execution_count": 47,
   "metadata": {},
   "outputs": [
    {
     "data": {
      "text/html": [
       "<div>\n",
       "<style scoped>\n",
       "    .dataframe tbody tr th:only-of-type {\n",
       "        vertical-align: middle;\n",
       "    }\n",
       "\n",
       "    .dataframe tbody tr th {\n",
       "        vertical-align: top;\n",
       "    }\n",
       "\n",
       "    .dataframe thead th {\n",
       "        text-align: right;\n",
       "    }\n",
       "</style>\n",
       "<table border=\"1\" class=\"dataframe\">\n",
       "  <thead>\n",
       "    <tr style=\"text-align: right;\">\n",
       "      <th></th>\n",
       "      <th>Window</th>\n",
       "      <th>Duration(Sec)</th>\n",
       "      <th>time</th>\n",
       "    </tr>\n",
       "  </thead>\n",
       "  <tbody>\n",
       "    <tr>\n",
       "      <th>0</th>\n",
       "      <td>abc</td>\n",
       "      <td>1.01362</td>\n",
       "      <td>2020-05-14 15:11:02.058370</td>\n",
       "    </tr>\n",
       "    <tr>\n",
       "      <th>1</th>\n",
       "      <td>Ideal</td>\n",
       "      <td>11.0143</td>\n",
       "      <td>2020-05-14 15:11:03.071987</td>\n",
       "    </tr>\n",
       "    <tr>\n",
       "      <th>2</th>\n",
       "      <td>HM3H - Capcity - Excel</td>\n",
       "      <td>17.0127</td>\n",
       "      <td>2020-05-14 15:11:14.086298</td>\n",
       "    </tr>\n",
       "    <tr>\n",
       "      <th>3</th>\n",
       "      <td>Meet - Capacity Overview Review session - Goog...</td>\n",
       "      <td>3.00695</td>\n",
       "      <td>2020-05-14 15:11:31.098990</td>\n",
       "    </tr>\n",
       "    <tr>\n",
       "      <th>4</th>\n",
       "      <td>Ideal</td>\n",
       "      <td>1.005</td>\n",
       "      <td>2020-05-14 15:11:34.105939</td>\n",
       "    </tr>\n",
       "  </tbody>\n",
       "</table>\n",
       "</div>"
      ],
      "text/plain": [
       "                                              Window Duration(Sec)  \\\n",
       "0                                                abc       1.01362   \n",
       "1                                              Ideal       11.0143   \n",
       "2                             HM3H - Capcity - Excel       17.0127   \n",
       "3  Meet - Capacity Overview Review session - Goog...       3.00695   \n",
       "4                                              Ideal         1.005   \n",
       "\n",
       "                        time  \n",
       "0 2020-05-14 15:11:02.058370  \n",
       "1 2020-05-14 15:11:03.071987  \n",
       "2 2020-05-14 15:11:14.086298  \n",
       "3 2020-05-14 15:11:31.098990  \n",
       "4 2020-05-14 15:11:34.105939  "
      ]
     },
     "execution_count": 47,
     "metadata": {},
     "output_type": "execute_result"
    }
   ],
   "source": [
    "df.head()"
   ]
  },
  {
   "cell_type": "markdown",
   "metadata": {},
   "source": [
    "# Step 2: CHART 1\n",
    "1. Create a datafrme which cab be used to plot chart, in same way way as we do in excel. Alternative suggesion are welcome\n",
    "2. Convert Datasheet into list"
   ]
  },
  {
   "cell_type": "code",
   "execution_count": null,
   "metadata": {},
   "outputs": [],
   "source": []
  },
  {
   "cell_type": "markdown",
   "metadata": {},
   "source": [
    "# Step 3: CHART 2\n",
    "1. Create a datafrme for each section of Pie-chart which cab be used to plot chart, in same way way as we do in excel. Note Every item will be poltted. Alternative suggesion are welcome\n",
    "2. Convert Datasheet into list"
   ]
  },
  {
   "cell_type": "markdown",
   "metadata": {},
   "source": [
    "# Improvement\n",
    "1. Add datewise Filter\n",
    "2. When logs are created for months innovative ways has to be thaught of to report"
   ]
  }
 ],
 "metadata": {
  "kernelspec": {
   "display_name": "Python 3",
   "language": "python",
   "name": "python3"
  },
  "language_info": {
   "codemirror_mode": {
    "name": "ipython",
    "version": 3
   },
   "file_extension": ".py",
   "mimetype": "text/x-python",
   "name": "python",
   "nbconvert_exporter": "python",
   "pygments_lexer": "ipython3",
   "version": "3.7.1"
  }
 },
 "nbformat": 4,
 "nbformat_minor": 4
}
